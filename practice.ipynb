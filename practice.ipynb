{
 "cells": [
  {
   "cell_type": "code",
   "execution_count": null,
   "metadata": {},
   "outputs": [],
   "source": [
    "students_heights = input(\"Input a list of student heights\").split()\n",
    "\n",
    "for n in range(0, len(students_heights)):\n",
    "    students_heights[n] = int(students_heights[n])\n",
    "print(students_heights)\n",
    "\n",
    "total_height = 0\n",
    "for height in students_heights:\n",
    "    total_height += height\n",
    "\n",
    "print(total_height)\n",
    "\n",
    "\n",
    "    "
   ]
  },
  {
   "cell_type": "code",
   "execution_count": null,
   "metadata": {},
   "outputs": [],
   "source": [
    "number_of_students = 0\n",
    "for student in students_heights:\n",
    "    number_of_students += 1\n",
    "\n",
    "print(number_of_students)\n",
    "\n",
    "average_height = round(total_height / number_of_students)\n",
    "print(average_height)\n",
    "# print(len(students_heights))\n",
    "\n"
   ]
  },
  {
   "cell_type": "code",
   "execution_count": null,
   "metadata": {},
   "outputs": [],
   "source": [
    "student_scores = [78, 65, 89, 86, 55, 91, 64, 89]\n",
    "\n",
    "highest_score = 0\n",
    "for score in student_scores:\n",
    "    if score > highest_score: \n",
    "        highest_score = score\n",
    "\n",
    "print(f\"The highest score in the class is: {highest_score}\")"
   ]
  },
  {
   "cell_type": "code",
   "execution_count": null,
   "metadata": {},
   "outputs": [],
   "source": [
    "total = 0\n",
    "for number in range(1, 11): \n",
    "    if number % 2 == 0: \n",
    "        print(number)\n",
    "        total += number\n",
    "\n",
    "\n",
    "print(total)"
   ]
  },
  {
   "cell_type": "code",
   "execution_count": null,
   "metadata": {},
   "outputs": [],
   "source": [
    "for number in range(1, 101): \n",
    "    if number % 3 == 0 and number % 5 == 0: \n",
    "        print('FizzBuzz')\n",
    "    elif number % 3 == 0: \n",
    "        print('Fizz')\n",
    "    elif number % 5 == 0:\n",
    "        print('Buzz')\n",
    "    else:\n",
    "        print(number)"
   ]
  },
  {
   "cell_type": "code",
   "execution_count": null,
   "metadata": {},
   "outputs": [],
   "source": []
  }
 ],
 "metadata": {
  "language_info": {
   "name": "python"
  },
  "orig_nbformat": 4
 },
 "nbformat": 4,
 "nbformat_minor": 2
}
